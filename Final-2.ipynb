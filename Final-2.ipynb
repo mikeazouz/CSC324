{
 "cells": [
  {
   "cell_type": "markdown",
   "id": "350c7f7e-5898-43d8-afe5-011d7ccba4b5",
   "metadata": {},
   "source": [
    "#INTRODUCTION\n"
   ]
  },
  {
   "cell_type": "code",
   "execution_count": 14,
   "id": "ec70e148-e040-4d4a-9315-eb574e546b64",
   "metadata": {},
   "outputs": [],
   "source": [
    "import seaborn as sns\n",
    "import matplotlib.pyplot as plt\n",
    "import os\n",
    "import pandas as pd\n",
    "import numpy as np\n",
    "from sklearn.preprocessing import LabelEncoder\n",
    "from sklearn.cluster import KMeans\n"
   ]
  },
  {
   "cell_type": "code",
   "execution_count": 15,
   "id": "0554b677-82fb-4142-8138-4d48b24c89e5",
   "metadata": {},
   "outputs": [],
   "source": [
    "filename = \"degreespayback.csv\""
   ]
  },
  {
   "cell_type": "code",
   "execution_count": 16,
   "id": "0abfe528-6b98-46f5-aae8-042e84b86e9c",
   "metadata": {},
   "outputs": [],
   "source": [
    "reactors=pd.read_csv(\"degreespayback.csv\")"
   ]
  },
  {
   "cell_type": "code",
   "execution_count": null,
   "id": "e361abf3-ab0c-4d89-b0a2-ca40c5eccc4d",
   "metadata": {},
   "outputs": [],
   "source": []
  },
  {
   "cell_type": "code",
   "execution_count": 26,
   "id": "b91125ea-295b-40c0-8150-8af272fb1352",
   "metadata": {},
   "outputs": [
    {
     "data": {
      "text/html": [
       "<div>\n",
       "<style scoped>\n",
       "    .dataframe tbody tr th:only-of-type {\n",
       "        vertical-align: middle;\n",
       "    }\n",
       "\n",
       "    .dataframe tbody tr th {\n",
       "        vertical-align: top;\n",
       "    }\n",
       "\n",
       "    .dataframe thead th {\n",
       "        text-align: right;\n",
       "    }\n",
       "</style>\n",
       "<table border=\"1\" class=\"dataframe\">\n",
       "  <thead>\n",
       "    <tr style=\"text-align: right;\">\n",
       "      <th></th>\n",
       "      <th>Undergraduate Major</th>\n",
       "      <th>Starting Median Salary</th>\n",
       "      <th>Mid-Career Median Salary</th>\n",
       "      <th>Percent change from Starting to Mid-Career Salary</th>\n",
       "      <th>Mid-Career 10th Percentile Salary</th>\n",
       "      <th>Mid-Career 25th Percentile Salary</th>\n",
       "      <th>Mid-Career 75th Percentile Salary</th>\n",
       "      <th>Mid-Career 90th Percentile Salary</th>\n",
       "    </tr>\n",
       "  </thead>\n",
       "  <tbody>\n",
       "    <tr>\n",
       "      <th>0</th>\n",
       "      <td>Accounting</td>\n",
       "      <td>$46,000.00</td>\n",
       "      <td>$77,100.00</td>\n",
       "      <td>67.6</td>\n",
       "      <td>$42,200.00</td>\n",
       "      <td>$56,100.00</td>\n",
       "      <td>$108,000.00</td>\n",
       "      <td>$152,000.00</td>\n",
       "    </tr>\n",
       "    <tr>\n",
       "      <th>1</th>\n",
       "      <td>Aerospace Engineering</td>\n",
       "      <td>$57,700.00</td>\n",
       "      <td>$101,000.00</td>\n",
       "      <td>75.0</td>\n",
       "      <td>$64,300.00</td>\n",
       "      <td>$82,100.00</td>\n",
       "      <td>$127,000.00</td>\n",
       "      <td>$161,000.00</td>\n",
       "    </tr>\n",
       "    <tr>\n",
       "      <th>2</th>\n",
       "      <td>Agriculture</td>\n",
       "      <td>$42,600.00</td>\n",
       "      <td>$71,900.00</td>\n",
       "      <td>68.8</td>\n",
       "      <td>$36,300.00</td>\n",
       "      <td>$52,100.00</td>\n",
       "      <td>$96,300.00</td>\n",
       "      <td>$150,000.00</td>\n",
       "    </tr>\n",
       "    <tr>\n",
       "      <th>3</th>\n",
       "      <td>Anthropology</td>\n",
       "      <td>$36,800.00</td>\n",
       "      <td>$61,500.00</td>\n",
       "      <td>67.1</td>\n",
       "      <td>$33,800.00</td>\n",
       "      <td>$45,500.00</td>\n",
       "      <td>$89,300.00</td>\n",
       "      <td>$138,000.00</td>\n",
       "    </tr>\n",
       "    <tr>\n",
       "      <th>4</th>\n",
       "      <td>Architecture</td>\n",
       "      <td>$41,600.00</td>\n",
       "      <td>$76,800.00</td>\n",
       "      <td>84.6</td>\n",
       "      <td>$50,600.00</td>\n",
       "      <td>$62,200.00</td>\n",
       "      <td>$97,000.00</td>\n",
       "      <td>$136,000.00</td>\n",
       "    </tr>\n",
       "  </tbody>\n",
       "</table>\n",
       "</div>"
      ],
      "text/plain": [
       "     Undergraduate Major Starting Median Salary Mid-Career Median Salary  \\\n",
       "0             Accounting             $46,000.00               $77,100.00   \n",
       "1  Aerospace Engineering             $57,700.00              $101,000.00   \n",
       "2            Agriculture             $42,600.00               $71,900.00   \n",
       "3           Anthropology             $36,800.00               $61,500.00   \n",
       "4           Architecture             $41,600.00               $76,800.00   \n",
       "\n",
       "   Percent change from Starting to Mid-Career Salary  \\\n",
       "0                                               67.6   \n",
       "1                                               75.0   \n",
       "2                                               68.8   \n",
       "3                                               67.1   \n",
       "4                                               84.6   \n",
       "\n",
       "  Mid-Career 10th Percentile Salary Mid-Career 25th Percentile Salary  \\\n",
       "0                        $42,200.00                        $56,100.00   \n",
       "1                        $64,300.00                        $82,100.00   \n",
       "2                        $36,300.00                        $52,100.00   \n",
       "3                        $33,800.00                        $45,500.00   \n",
       "4                        $50,600.00                        $62,200.00   \n",
       "\n",
       "  Mid-Career 75th Percentile Salary Mid-Career 90th Percentile Salary  \n",
       "0                       $108,000.00                       $152,000.00  \n",
       "1                       $127,000.00                       $161,000.00  \n",
       "2                        $96,300.00                       $150,000.00  \n",
       "3                        $89,300.00                       $138,000.00  \n",
       "4                        $97,000.00                       $136,000.00  "
      ]
     },
     "execution_count": 26,
     "metadata": {},
     "output_type": "execute_result"
    }
   ],
   "source": [
    "reactors.head()"
   ]
  },
  {
   "cell_type": "code",
   "execution_count": 27,
   "id": "f44419b1-1db3-43c7-a462-2118b4f35a8b",
   "metadata": {},
   "outputs": [
    {
     "data": {
      "text/html": [
       "<div>\n",
       "<style scoped>\n",
       "    .dataframe tbody tr th:only-of-type {\n",
       "        vertical-align: middle;\n",
       "    }\n",
       "\n",
       "    .dataframe tbody tr th {\n",
       "        vertical-align: top;\n",
       "    }\n",
       "\n",
       "    .dataframe thead th {\n",
       "        text-align: right;\n",
       "    }\n",
       "</style>\n",
       "<table border=\"1\" class=\"dataframe\">\n",
       "  <thead>\n",
       "    <tr style=\"text-align: right;\">\n",
       "      <th></th>\n",
       "      <th>Percent change from Starting to Mid-Career Salary</th>\n",
       "    </tr>\n",
       "  </thead>\n",
       "  <tbody>\n",
       "    <tr>\n",
       "      <th>count</th>\n",
       "      <td>50.000000</td>\n",
       "    </tr>\n",
       "    <tr>\n",
       "      <th>mean</th>\n",
       "      <td>69.274000</td>\n",
       "    </tr>\n",
       "    <tr>\n",
       "      <th>std</th>\n",
       "      <td>17.909908</td>\n",
       "    </tr>\n",
       "    <tr>\n",
       "      <th>min</th>\n",
       "      <td>23.400000</td>\n",
       "    </tr>\n",
       "    <tr>\n",
       "      <th>25%</th>\n",
       "      <td>59.125000</td>\n",
       "    </tr>\n",
       "    <tr>\n",
       "      <th>50%</th>\n",
       "      <td>67.800000</td>\n",
       "    </tr>\n",
       "    <tr>\n",
       "      <th>75%</th>\n",
       "      <td>82.425000</td>\n",
       "    </tr>\n",
       "    <tr>\n",
       "      <th>max</th>\n",
       "      <td>103.500000</td>\n",
       "    </tr>\n",
       "  </tbody>\n",
       "</table>\n",
       "</div>"
      ],
      "text/plain": [
       "       Percent change from Starting to Mid-Career Salary\n",
       "count                                          50.000000\n",
       "mean                                           69.274000\n",
       "std                                            17.909908\n",
       "min                                            23.400000\n",
       "25%                                            59.125000\n",
       "50%                                            67.800000\n",
       "75%                                            82.425000\n",
       "max                                           103.500000"
      ]
     },
     "execution_count": 27,
     "metadata": {},
     "output_type": "execute_result"
    }
   ],
   "source": [
    "reactors.describe()"
   ]
  },
  {
   "cell_type": "code",
   "execution_count": 17,
   "id": "b9fbaccf-c762-4763-959d-a548cb3e71c0",
   "metadata": {},
   "outputs": [
    {
     "data": {
      "text/html": [
       "<div>\n",
       "<style scoped>\n",
       "    .dataframe tbody tr th:only-of-type {\n",
       "        vertical-align: middle;\n",
       "    }\n",
       "\n",
       "    .dataframe tbody tr th {\n",
       "        vertical-align: top;\n",
       "    }\n",
       "\n",
       "    .dataframe thead th {\n",
       "        text-align: right;\n",
       "    }\n",
       "</style>\n",
       "<table border=\"1\" class=\"dataframe\">\n",
       "  <thead>\n",
       "    <tr style=\"text-align: right;\">\n",
       "      <th></th>\n",
       "      <th>Undergraduate Major</th>\n",
       "      <th>Starting Median Salary</th>\n",
       "      <th>Mid-Career Median Salary</th>\n",
       "      <th>Percent change from Starting to Mid-Career Salary</th>\n",
       "      <th>Mid-Career 10th Percentile Salary</th>\n",
       "      <th>Mid-Career 25th Percentile Salary</th>\n",
       "      <th>Mid-Career 75th Percentile Salary</th>\n",
       "      <th>Mid-Career 90th Percentile Salary</th>\n",
       "    </tr>\n",
       "  </thead>\n",
       "  <tbody>\n",
       "    <tr>\n",
       "      <th>0</th>\n",
       "      <td>Accounting</td>\n",
       "      <td>$46,000.00</td>\n",
       "      <td>$77,100.00</td>\n",
       "      <td>67.6</td>\n",
       "      <td>$42,200.00</td>\n",
       "      <td>$56,100.00</td>\n",
       "      <td>$108,000.00</td>\n",
       "      <td>$152,000.00</td>\n",
       "    </tr>\n",
       "    <tr>\n",
       "      <th>1</th>\n",
       "      <td>Aerospace Engineering</td>\n",
       "      <td>$57,700.00</td>\n",
       "      <td>$101,000.00</td>\n",
       "      <td>75.0</td>\n",
       "      <td>$64,300.00</td>\n",
       "      <td>$82,100.00</td>\n",
       "      <td>$127,000.00</td>\n",
       "      <td>$161,000.00</td>\n",
       "    </tr>\n",
       "    <tr>\n",
       "      <th>2</th>\n",
       "      <td>Agriculture</td>\n",
       "      <td>$42,600.00</td>\n",
       "      <td>$71,900.00</td>\n",
       "      <td>68.8</td>\n",
       "      <td>$36,300.00</td>\n",
       "      <td>$52,100.00</td>\n",
       "      <td>$96,300.00</td>\n",
       "      <td>$150,000.00</td>\n",
       "    </tr>\n",
       "    <tr>\n",
       "      <th>3</th>\n",
       "      <td>Anthropology</td>\n",
       "      <td>$36,800.00</td>\n",
       "      <td>$61,500.00</td>\n",
       "      <td>67.1</td>\n",
       "      <td>$33,800.00</td>\n",
       "      <td>$45,500.00</td>\n",
       "      <td>$89,300.00</td>\n",
       "      <td>$138,000.00</td>\n",
       "    </tr>\n",
       "    <tr>\n",
       "      <th>4</th>\n",
       "      <td>Architecture</td>\n",
       "      <td>$41,600.00</td>\n",
       "      <td>$76,800.00</td>\n",
       "      <td>84.6</td>\n",
       "      <td>$50,600.00</td>\n",
       "      <td>$62,200.00</td>\n",
       "      <td>$97,000.00</td>\n",
       "      <td>$136,000.00</td>\n",
       "    </tr>\n",
       "  </tbody>\n",
       "</table>\n",
       "</div>"
      ],
      "text/plain": [
       "     Undergraduate Major Starting Median Salary Mid-Career Median Salary  \\\n",
       "0             Accounting             $46,000.00               $77,100.00   \n",
       "1  Aerospace Engineering             $57,700.00              $101,000.00   \n",
       "2            Agriculture             $42,600.00               $71,900.00   \n",
       "3           Anthropology             $36,800.00               $61,500.00   \n",
       "4           Architecture             $41,600.00               $76,800.00   \n",
       "\n",
       "   Percent change from Starting to Mid-Career Salary  \\\n",
       "0                                               67.6   \n",
       "1                                               75.0   \n",
       "2                                               68.8   \n",
       "3                                               67.1   \n",
       "4                                               84.6   \n",
       "\n",
       "  Mid-Career 10th Percentile Salary Mid-Career 25th Percentile Salary  \\\n",
       "0                        $42,200.00                        $56,100.00   \n",
       "1                        $64,300.00                        $82,100.00   \n",
       "2                        $36,300.00                        $52,100.00   \n",
       "3                        $33,800.00                        $45,500.00   \n",
       "4                        $50,600.00                        $62,200.00   \n",
       "\n",
       "  Mid-Career 75th Percentile Salary Mid-Career 90th Percentile Salary  \n",
       "0                       $108,000.00                       $152,000.00  \n",
       "1                       $127,000.00                       $161,000.00  \n",
       "2                        $96,300.00                       $150,000.00  \n",
       "3                        $89,300.00                       $138,000.00  \n",
       "4                        $97,000.00                       $136,000.00  "
      ]
     },
     "execution_count": 17,
     "metadata": {},
     "output_type": "execute_result"
    }
   ],
   "source": [
    "score_df = pd.read_csv(filename)\n",
    "score_df.head()"
   ]
  },
  {
   "cell_type": "code",
   "execution_count": 18,
   "id": "3318df00-ecdd-4ec4-b876-19aa551ea684",
   "metadata": {},
   "outputs": [
    {
     "data": {
      "text/html": [
       "<div>\n",
       "<style scoped>\n",
       "    .dataframe tbody tr th:only-of-type {\n",
       "        vertical-align: middle;\n",
       "    }\n",
       "\n",
       "    .dataframe tbody tr th {\n",
       "        vertical-align: top;\n",
       "    }\n",
       "\n",
       "    .dataframe thead th {\n",
       "        text-align: right;\n",
       "    }\n",
       "</style>\n",
       "<table border=\"1\" class=\"dataframe\">\n",
       "  <thead>\n",
       "    <tr style=\"text-align: right;\">\n",
       "      <th></th>\n",
       "      <th>Undergraduate Major</th>\n",
       "      <th>Starting Median Salary</th>\n",
       "      <th>Mid-Career Median Salary</th>\n",
       "      <th>Percent change</th>\n",
       "      <th>10th Percentile</th>\n",
       "      <th>25th Percentile</th>\n",
       "      <th>75th Percentile</th>\n",
       "      <th>90th Percentile</th>\n",
       "    </tr>\n",
       "  </thead>\n",
       "  <tbody>\n",
       "    <tr>\n",
       "      <th>0</th>\n",
       "      <td>Accounting</td>\n",
       "      <td>$46,000.00</td>\n",
       "      <td>$77,100.00</td>\n",
       "      <td>67.6</td>\n",
       "      <td>$42,200.00</td>\n",
       "      <td>$56,100.00</td>\n",
       "      <td>$108,000.00</td>\n",
       "      <td>$152,000.00</td>\n",
       "    </tr>\n",
       "    <tr>\n",
       "      <th>1</th>\n",
       "      <td>Aerospace Engineering</td>\n",
       "      <td>$57,700.00</td>\n",
       "      <td>$101,000.00</td>\n",
       "      <td>75.0</td>\n",
       "      <td>$64,300.00</td>\n",
       "      <td>$82,100.00</td>\n",
       "      <td>$127,000.00</td>\n",
       "      <td>$161,000.00</td>\n",
       "    </tr>\n",
       "    <tr>\n",
       "      <th>2</th>\n",
       "      <td>Agriculture</td>\n",
       "      <td>$42,600.00</td>\n",
       "      <td>$71,900.00</td>\n",
       "      <td>68.8</td>\n",
       "      <td>$36,300.00</td>\n",
       "      <td>$52,100.00</td>\n",
       "      <td>$96,300.00</td>\n",
       "      <td>$150,000.00</td>\n",
       "    </tr>\n",
       "    <tr>\n",
       "      <th>3</th>\n",
       "      <td>Anthropology</td>\n",
       "      <td>$36,800.00</td>\n",
       "      <td>$61,500.00</td>\n",
       "      <td>67.1</td>\n",
       "      <td>$33,800.00</td>\n",
       "      <td>$45,500.00</td>\n",
       "      <td>$89,300.00</td>\n",
       "      <td>$138,000.00</td>\n",
       "    </tr>\n",
       "    <tr>\n",
       "      <th>4</th>\n",
       "      <td>Architecture</td>\n",
       "      <td>$41,600.00</td>\n",
       "      <td>$76,800.00</td>\n",
       "      <td>84.6</td>\n",
       "      <td>$50,600.00</td>\n",
       "      <td>$62,200.00</td>\n",
       "      <td>$97,000.00</td>\n",
       "      <td>$136,000.00</td>\n",
       "    </tr>\n",
       "  </tbody>\n",
       "</table>\n",
       "</div>"
      ],
      "text/plain": [
       "     Undergraduate Major Starting Median Salary Mid-Career Median Salary  \\\n",
       "0             Accounting             $46,000.00               $77,100.00   \n",
       "1  Aerospace Engineering             $57,700.00              $101,000.00   \n",
       "2            Agriculture             $42,600.00               $71,900.00   \n",
       "3           Anthropology             $36,800.00               $61,500.00   \n",
       "4           Architecture             $41,600.00               $76,800.00   \n",
       "\n",
       "   Percent change 10th Percentile 25th Percentile 75th Percentile  \\\n",
       "0            67.6      $42,200.00      $56,100.00     $108,000.00   \n",
       "1            75.0      $64,300.00      $82,100.00     $127,000.00   \n",
       "2            68.8      $36,300.00      $52,100.00      $96,300.00   \n",
       "3            67.1      $33,800.00      $45,500.00      $89,300.00   \n",
       "4            84.6      $50,600.00      $62,200.00      $97,000.00   \n",
       "\n",
       "  90th Percentile  \n",
       "0     $152,000.00  \n",
       "1     $161,000.00  \n",
       "2     $150,000.00  \n",
       "3     $138,000.00  \n",
       "4     $136,000.00  "
      ]
     },
     "execution_count": 18,
     "metadata": {},
     "output_type": "execute_result"
    }
   ],
   "source": [
    "score_df.rename(columns={\"undergraduate major\":\"major\",\"starting median salary\":\"starting median salary\"\n",
    "                    ,\"Percent change from Starting to Mid-Career Salary\":\"Percent change\",\"Mid-Career 10th Percentile Salary\":\"10th Percentile\",\"Mid-Career 25th Percentile Salary\":\"25th Percentile\",\n",
    "                    \"Mid-Career 75th Percentile Salary\":\"75th Percentile\",\"Mid-Career 90th Percentile Salary\":\"90th Percentile\"},inplace=True)\n",
    "score_df.head()"
   ]
  },
  {
   "cell_type": "code",
   "execution_count": null,
   "id": "46cba84b-8dea-4dce-a9b0-a5c9ba09800e",
   "metadata": {},
   "outputs": [],
   "source": []
  },
  {
   "cell_type": "code",
   "execution_count": 29,
   "id": "1523b317-cfa3-47f4-82b9-2e663b0dbf22",
   "metadata": {},
   "outputs": [
    {
     "data": {
      "text/plain": [
       "array(['$46,000.00', '$57,700.00', '$42,600.00', '$36,800.00',\n",
       "       '$41,600.00', '$35,800.00', '$38,800.00', '$43,000.00',\n",
       "       '$63,200.00', '$53,900.00', '$38,100.00', '$61,400.00',\n",
       "       '$55,900.00', '$53,700.00', '$35,000.00', '$35,900.00',\n",
       "       '$50,100.00', '$34,900.00', '$60,900.00', '$38,000.00',\n",
       "       '$37,900.00', '$47,900.00', '$39,100.00', '$41,200.00',\n",
       "       '$43,500.00', '$35,700.00', '$39,200.00', '$37,800.00',\n",
       "       '$49,100.00', '$36,100.00', '$40,900.00', '$35,600.00',\n",
       "       '$49,200.00', '$40,800.00', '$45,400.00', '$57,900.00',\n",
       "       '$54,200.00', '$39,900.00', '$74,300.00', '$50,300.00',\n",
       "       '$34,100.00', '$36,500.00', '$34,000.00'], dtype=object)"
      ]
     },
     "execution_count": 29,
     "metadata": {},
     "output_type": "execute_result"
    }
   ],
   "source": [
    "reactors['Starting Median Salary'].unique()"
   ]
  },
  {
   "cell_type": "code",
   "execution_count": 19,
   "id": "c32410d4-b9fd-4c76-9605-f5bb148b3892",
   "metadata": {},
   "outputs": [
    {
     "data": {
      "text/plain": [
       "Undergraduate Major          object\n",
       "Starting Median Salary       object\n",
       "Mid-Career Median Salary     object\n",
       "Percent change              float64\n",
       "10th Percentile              object\n",
       "25th Percentile              object\n",
       "75th Percentile              object\n",
       "90th Percentile              object\n",
       "dtype: object"
      ]
     },
     "execution_count": 19,
     "metadata": {},
     "output_type": "execute_result"
    }
   ],
   "source": [
    "score_df.dtypes"
   ]
  },
  {
   "cell_type": "raw",
   "id": "22e19ba2-51e9-4d6b-a8ac-1d28e671a5fa",
   "metadata": {},
   "source": [
    "Which major should James pick based on salary?"
   ]
  },
  {
   "cell_type": "code",
   "execution_count": 20,
   "id": "632ecdd4-c177-4ab7-be11-04df159e5c1a",
   "metadata": {},
   "outputs": [
    {
     "data": {
      "image/png": "[encoded data removed]",
      "text/plain": [
       "<Figure size 432x288 with 1 Axes>"
      ]
     },
     "metadata": {
      "needs_background": "light"
     },
     "output_type": "display_data"
    }
   ],
   "source": [
    "fig = plt.figure()\n",
    "ax = fig.add_axes([0,0,1,1])\n",
    "major = ['Criminal Justice','English',]\n",
    "salary = [35000,38000]\n",
    "ax.bar(major,salary)\n",
    "plt.show()"
   ]
  },
  {
   "cell_type": "raw",
   "id": "d9cc3210-7231-4cd9-a8b2-e11c0960eef1",
   "metadata": {},
   "source": [
    "The median salary of the English major is 3000 more than the Criminal justice major "
   ]
  },
  {
   "cell_type": "raw",
   "id": "4ba66035-7181-4239-af20-26b84c1c28f9",
   "metadata": {},
   "source": [
    "Which major should Mariah pick that will help her pay off her loans?"
   ]
  },
  {
   "cell_type": "code",
   "execution_count": 33,
   "id": "6b56ea00-7b92-4f9c-8943-ee49a6a68b02",
   "metadata": {},
   "outputs": [
    {
     "data": {
      "image/png": "[encoded data removed]",
      "text/plain": [
       "<Figure size 432x288 with 1 Axes>"
      ]
     },
     "metadata": {
      "needs_background": "light"
     },
     "output_type": "display_data"
    }
   ],
   "source": [
    "fig = plt.figure()\n",
    "ax = fig.add_axes([0,0,1,1])\n",
    "major = ['Psychology','Interior design',]\n",
    "salary = [35900,36100]\n",
    "ax.bar(major,salary)\n",
    "plt.show()"
   ]
  },
  {
   "cell_type": "raw",
   "id": "adc9709a-39e5-483f-8ec5-99a6231c3ee4",
   "metadata": {},
   "source": [
    "The salaries are really close to each other in terms of amount, but according to the 'Percent change', Psychology has 68.2% while Iterior design only has 47.4% so it looks like Psychology would be the smarter thing to do."
   ]
  },
  {
   "cell_type": "code",
   "execution_count": 22,
   "id": "4796f919-46b8-4b0d-9810-07bd6299bf03",
   "metadata": {},
   "outputs": [
    {
     "data": {
      "image/png": "[encoded data removed]",
      "text/plain": [
       "<Figure size 432x288 with 1 Axes>"
      ]
     },
     "metadata": {
      "needs_background": "light"
     },
     "output_type": "display_data"
    }
   ],
   "source": [
    "fig = plt.figure()\n",
    "ax = fig.add_axes([0,0,1,1])\n",
    "major = ['History','Information Technology']\n",
    "salary = [39200,49100]\n",
    "ax.bar(major,salary)\n",
    "plt.show()"
   ]
  },
  {
   "cell_type": "raw",
   "id": "61d46691-1912-4743-9133-2e5c5bbbfd1a",
   "metadata": {},
   "source": [
    "As the data shows, Information Technology startup payment is more tha history major so switching to IT would definitely be a move"
   ]
  }
 ],
 "metadata": {
  "kernelspec": {
   "display_name": "Python 3",
   "language": "python",
   "name": "python3"
  },
  "language_info": {
   "codemirror_mode": {
    "name": "ipython",
    "version": 3
   },
   "file_extension": ".py",
   "mimetype": "text/x-python",
   "name": "python",
   "nbconvert_exporter": "python",
   "pygments_lexer": "ipython3",
   "version": "3.8.8"
  }
 },
 "nbformat": 4,
 "nbformat_minor": 5
}
